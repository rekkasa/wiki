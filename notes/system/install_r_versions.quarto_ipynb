{
  "cells": [
    {
      "cell_type": "markdown",
      "metadata": {},
      "source": [
        "---\n",
        "title: \"Install multiple versions of `R`\"\n",
        "description: \"This is a test\"\n",
        "format: html\n",
        "execute:\n",
        "  echo: false\n",
        "jupyter: python3\n",
        "---\n",
        "\n",
        "\n",
        "## Download R source code\n",
        "\n",
        "Download `R` source code from [https://cran.rstudio.com/src/base/R-3/](https://cran.rstudio.com/src/base/R-3/).\n",
        "\n",
        "```bash\n",
        "grep -R \"TODO\" .\n"
      ],
      "id": "1b369088"
    }
  ],
  "metadata": {
    "kernelspec": {
      "display_name": "Python 3",
      "language": "python",
      "name": "python3"
    }
  },
  "nbformat": 4,
  "nbformat_minor": 5
}